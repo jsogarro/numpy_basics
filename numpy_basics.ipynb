{
 "metadata": {
  "name": ""
 },
 "nbformat": 3,
 "nbformat_minor": 0,
 "worksheets": [
  {
   "cells": [
    {
     "cell_type": "markdown",
     "metadata": {},
     "source": [
      "# Numpy Basics\n",
      "\n",
      "Basic operations in numpy"
     ]
    },
    {
     "cell_type": "code",
     "collapsed": false,
     "input": [
      "# import dependencies \n",
      "import numpy as np"
     ],
     "language": "python",
     "metadata": {},
     "outputs": [],
     "prompt_number": 1
    },
    {
     "cell_type": "markdown",
     "metadata": {},
     "source": [
      "## Creating ndarrays"
     ]
    },
    {
     "cell_type": "code",
     "collapsed": false,
     "input": [
      "# range of 10 items\n",
      "np.arange(10)"
     ],
     "language": "python",
     "metadata": {},
     "outputs": [
      {
       "metadata": {},
       "output_type": "pyout",
       "prompt_number": 2,
       "text": [
        "array([0, 1, 2, 3, 4, 5, 6, 7, 8, 9])"
       ]
      }
     ],
     "prompt_number": 2
    },
    {
     "cell_type": "code",
     "collapsed": false,
     "input": [
      "# start from 1 instead of 0\n",
      "np.arange(1,10)"
     ],
     "language": "python",
     "metadata": {},
     "outputs": [
      {
       "metadata": {},
       "output_type": "pyout",
       "prompt_number": 7,
       "text": [
        "array([1, 2, 3, 4, 5, 6, 7, 8, 9])"
       ]
      }
     ],
     "prompt_number": 7
    },
    {
     "cell_type": "code",
     "collapsed": false,
     "input": [
      "# create an ndarray with steps\n",
      "np.arange(1, 10, 2)"
     ],
     "language": "python",
     "metadata": {},
     "outputs": [
      {
       "metadata": {},
       "output_type": "pyout",
       "prompt_number": 6,
       "text": [
        "array([1, 3, 5, 7, 9])"
       ]
      }
     ],
     "prompt_number": 6
    },
    {
     "cell_type": "code",
     "collapsed": false,
     "input": [
      "# specify the dtype of the ndarray\n",
      "np.arange(1,10, 2, dtype=np.float64)"
     ],
     "language": "python",
     "metadata": {},
     "outputs": [
      {
       "metadata": {},
       "output_type": "pyout",
       "prompt_number": 8,
       "text": [
        "array([ 1.,  3.,  5.,  7.,  9.])"
       ]
      }
     ],
     "prompt_number": 8
    },
    {
     "cell_type": "markdown",
     "metadata": {},
     "source": [
      "## Exploring the ndarray"
     ]
    },
    {
     "cell_type": "code",
     "collapsed": false,
     "input": [
      "# create an ndarray using arange\n",
      "arr = np.arange(1,10,2)"
     ],
     "language": "python",
     "metadata": {},
     "outputs": [],
     "prompt_number": 9
    },
    {
     "cell_type": "code",
     "collapsed": false,
     "input": [
      "# inspect the ndarray\n",
      "arr"
     ],
     "language": "python",
     "metadata": {},
     "outputs": [
      {
       "metadata": {},
       "output_type": "pyout",
       "prompt_number": 12,
       "text": [
        "array([1, 3, 5, 7, 9])"
       ]
      }
     ],
     "prompt_number": 12
    },
    {
     "cell_type": "code",
     "collapsed": false,
     "input": [
      "# find the number of dimensions\n",
      "arr.ndim"
     ],
     "language": "python",
     "metadata": {},
     "outputs": [
      {
       "metadata": {},
       "output_type": "pyout",
       "prompt_number": 11,
       "text": [
        "1"
       ]
      }
     ],
     "prompt_number": 11
    },
    {
     "cell_type": "code",
     "collapsed": false,
     "input": [
      "# inspect the size\n",
      "arr.size"
     ],
     "language": "python",
     "metadata": {},
     "outputs": [
      {
       "metadata": {},
       "output_type": "pyout",
       "prompt_number": 13,
       "text": [
        "5"
       ]
      }
     ],
     "prompt_number": 13
    },
    {
     "cell_type": "code",
     "collapsed": false,
     "input": [
      "# find the shape\n",
      "arr.shape"
     ],
     "language": "python",
     "metadata": {},
     "outputs": [
      {
       "metadata": {},
       "output_type": "pyout",
       "prompt_number": 14,
       "text": [
        "(5,)"
       ]
      }
     ],
     "prompt_number": 14
    },
    {
     "cell_type": "code",
     "collapsed": false,
     "input": [
      "# \n",
      "arr.dtype"
     ],
     "language": "python",
     "metadata": {},
     "outputs": [
      {
       "metadata": {},
       "output_type": "pyout",
       "prompt_number": 15,
       "text": [
        "dtype('int64')"
       ]
      }
     ],
     "prompt_number": 15
    },
    {
     "cell_type": "code",
     "collapsed": false,
     "input": [
      "arr.itemsize"
     ],
     "language": "python",
     "metadata": {},
     "outputs": [
      {
       "metadata": {},
       "output_type": "pyout",
       "prompt_number": 16,
       "text": [
        "8"
       ]
      }
     ],
     "prompt_number": 16
    },
    {
     "cell_type": "code",
     "collapsed": false,
     "input": [
      "l = arr.data\n",
      "list(l)"
     ],
     "language": "python",
     "metadata": {},
     "outputs": [
      {
       "metadata": {},
       "output_type": "pyout",
       "prompt_number": 17,
       "text": [
        "['\\x01',\n",
        " '\\x00',\n",
        " '\\x00',\n",
        " '\\x00',\n",
        " '\\x00',\n",
        " '\\x00',\n",
        " '\\x00',\n",
        " '\\x00',\n",
        " '\\x03',\n",
        " '\\x00',\n",
        " '\\x00',\n",
        " '\\x00',\n",
        " '\\x00',\n",
        " '\\x00',\n",
        " '\\x00',\n",
        " '\\x00',\n",
        " '\\x05',\n",
        " '\\x00',\n",
        " '\\x00',\n",
        " '\\x00',\n",
        " '\\x00',\n",
        " '\\x00',\n",
        " '\\x00',\n",
        " '\\x00',\n",
        " '\\x07',\n",
        " '\\x00',\n",
        " '\\x00',\n",
        " '\\x00',\n",
        " '\\x00',\n",
        " '\\x00',\n",
        " '\\x00',\n",
        " '\\x00',\n",
        " '\\t',\n",
        " '\\x00',\n",
        " '\\x00',\n",
        " '\\x00',\n",
        " '\\x00',\n",
        " '\\x00',\n",
        " '\\x00',\n",
        " '\\x00']"
       ]
      }
     ],
     "prompt_number": 17
    },
    {
     "cell_type": "code",
     "collapsed": false,
     "input": [
      "# multi dimensional array\n",
      "np.array([[1,1,1], [2,2,2], [3,3,3]])"
     ],
     "language": "python",
     "metadata": {},
     "outputs": [
      {
       "metadata": {},
       "output_type": "pyout",
       "prompt_number": 19,
       "text": [
        "array([[1, 1, 1],\n",
        "       [2, 2, 2],\n",
        "       [3, 3, 3]])"
       ]
      }
     ],
     "prompt_number": 19
    },
    {
     "cell_type": "markdown",
     "metadata": {},
     "source": [
      "## Helpful Functions"
     ]
    },
    {
     "cell_type": "code",
     "collapsed": false,
     "input": [
      "# create an ndarray of zerors\n",
      "np.zeros([5, 2], dtype=np.int64)"
     ],
     "language": "python",
     "metadata": {},
     "outputs": [
      {
       "metadata": {},
       "output_type": "pyout",
       "prompt_number": 22,
       "text": [
        "array([[0, 0],\n",
        "       [0, 0],\n",
        "       [0, 0],\n",
        "       [0, 0],\n",
        "       [0, 0]])"
       ]
      }
     ],
     "prompt_number": 22
    },
    {
     "cell_type": "code",
     "collapsed": false,
     "input": [
      "np.linspace(1,2)"
     ],
     "language": "python",
     "metadata": {},
     "outputs": [
      {
       "metadata": {},
       "output_type": "pyout",
       "prompt_number": 23,
       "text": [
        "array([ 1.        ,  1.02040816,  1.04081633,  1.06122449,  1.08163265,\n",
        "        1.10204082,  1.12244898,  1.14285714,  1.16326531,  1.18367347,\n",
        "        1.20408163,  1.2244898 ,  1.24489796,  1.26530612,  1.28571429,\n",
        "        1.30612245,  1.32653061,  1.34693878,  1.36734694,  1.3877551 ,\n",
        "        1.40816327,  1.42857143,  1.44897959,  1.46938776,  1.48979592,\n",
        "        1.51020408,  1.53061224,  1.55102041,  1.57142857,  1.59183673,\n",
        "        1.6122449 ,  1.63265306,  1.65306122,  1.67346939,  1.69387755,\n",
        "        1.71428571,  1.73469388,  1.75510204,  1.7755102 ,  1.79591837,\n",
        "        1.81632653,  1.83673469,  1.85714286,  1.87755102,  1.89795918,\n",
        "        1.91836735,  1.93877551,  1.95918367,  1.97959184,  2.        ])"
       ]
      }
     ],
     "prompt_number": 23
    },
    {
     "cell_type": "code",
     "collapsed": false,
     "input": [
      "# create linspace with steps\n",
      "np.linspace(1,2, num=10)"
     ],
     "language": "python",
     "metadata": {},
     "outputs": [
      {
       "metadata": {},
       "output_type": "pyout",
       "prompt_number": 24,
       "text": [
        "array([ 1.        ,  1.11111111,  1.22222222,  1.33333333,  1.44444444,\n",
        "        1.55555556,  1.66666667,  1.77777778,  1.88888889,  2.        ])"
       ]
      }
     ],
     "prompt_number": 24
    },
    {
     "cell_type": "code",
     "collapsed": false,
     "input": [
      "# create ndarray with random numbers\n",
      "sample_arr = np.random.random((1,8))\n",
      "sample_arr"
     ],
     "language": "python",
     "metadata": {},
     "outputs": [
      {
       "metadata": {},
       "output_type": "pyout",
       "prompt_number": 31,
       "text": [
        "array([[ 0.016545  ,  0.69690802,  0.73243038,  0.17943052,  0.00486025,\n",
        "         0.13644389,  0.48365167,  0.95012475]])"
       ]
      }
     ],
     "prompt_number": 31
    },
    {
     "cell_type": "code",
     "collapsed": false,
     "input": [
      "# find the max\n",
      "np.max(sample_arr)"
     ],
     "language": "python",
     "metadata": {},
     "outputs": [
      {
       "metadata": {},
       "output_type": "pyout",
       "prompt_number": 30,
       "text": [
        "0.99016799145444501"
       ]
      }
     ],
     "prompt_number": 30
    },
    {
     "cell_type": "code",
     "collapsed": false,
     "input": [
      "# create a matrix\n",
      "sample_arr2 = np.random.random((2, 5))\n",
      "sample_arr2"
     ],
     "language": "python",
     "metadata": {},
     "outputs": [
      {
       "metadata": {},
       "output_type": "pyout",
       "prompt_number": 37,
       "text": [
        "array([[ 0.35656107,  0.33312008,  0.91703002,  0.09807691,  0.7668278 ],\n",
        "       [ 0.80631677,  0.83623336,  0.14805343,  0.89114314,  0.26138968]])"
       ]
      }
     ],
     "prompt_number": 37
    },
    {
     "cell_type": "code",
     "collapsed": false,
     "input": [
      "# find the max of dimension zero\n",
      "np.max(sample_arr2, axis=0)"
     ],
     "language": "python",
     "metadata": {},
     "outputs": [
      {
       "metadata": {},
       "output_type": "pyout",
       "prompt_number": 38,
       "text": [
        "array([ 0.80631677,  0.83623336,  0.91703002,  0.89114314,  0.7668278 ])"
       ]
      }
     ],
     "prompt_number": 38
    },
    {
     "cell_type": "code",
     "collapsed": false,
     "input": [
      "# find the max of dimension one\n",
      "np.max(sample_arr2, axis=1)"
     ],
     "language": "python",
     "metadata": {},
     "outputs": [
      {
       "metadata": {},
       "output_type": "pyout",
       "prompt_number": 39,
       "text": [
        "array([ 0.91703002,  0.89114314])"
       ]
      }
     ],
     "prompt_number": 39
    },
    {
     "cell_type": "code",
     "collapsed": false,
     "input": [
      "# get the min\n",
      "np.min(sample_arr2, axis=0)"
     ],
     "language": "python",
     "metadata": {},
     "outputs": [
      {
       "metadata": {},
       "output_type": "pyout",
       "prompt_number": 40,
       "text": [
        "array([ 0.35656107,  0.33312008,  0.14805343,  0.09807691,  0.26138968])"
       ]
      }
     ],
     "prompt_number": 40
    },
    {
     "cell_type": "code",
     "collapsed": false,
     "input": [
      "# get the min\n",
      "np.min(sample_arr2, axis=1)"
     ],
     "language": "python",
     "metadata": {},
     "outputs": [
      {
       "metadata": {},
       "output_type": "pyout",
       "prompt_number": 41,
       "text": [
        "array([ 0.09807691,  0.14805343])"
       ]
      }
     ],
     "prompt_number": 41
    },
    {
     "cell_type": "code",
     "collapsed": false,
     "input": [
      "# calculate the mean\n",
      "np.mean(sample_arr2)"
     ],
     "language": "python",
     "metadata": {},
     "outputs": [
      {
       "metadata": {},
       "output_type": "pyout",
       "prompt_number": 42,
       "text": [
        "0.54147522592118735"
       ]
      }
     ],
     "prompt_number": 42
    },
    {
     "cell_type": "code",
     "collapsed": false,
     "input": [
      "# find the median\n",
      "np.median(sample_arr2)"
     ],
     "language": "python",
     "metadata": {},
     "outputs": [
      {
       "metadata": {},
       "output_type": "pyout",
       "prompt_number": 43,
       "text": [
        "0.56169443137073671"
       ]
      }
     ],
     "prompt_number": 43
    },
    {
     "cell_type": "code",
     "collapsed": false,
     "input": [
      "# calculate the standard deviation\n",
      "np.std(sample_arr2)"
     ],
     "language": "python",
     "metadata": {},
     "outputs": [
      {
       "metadata": {},
       "output_type": "pyout",
       "prompt_number": 44,
       "text": [
        "0.31281816437243221"
       ]
      }
     ],
     "prompt_number": 44
    },
    {
     "cell_type": "code",
     "collapsed": false,
     "input": [
      "# compute the sum\n",
      "np.sum(sample_arr2)"
     ],
     "language": "python",
     "metadata": {},
     "outputs": [
      {
       "metadata": {},
       "output_type": "pyout",
       "prompt_number": 45,
       "text": [
        "5.4147522592118733"
       ]
      }
     ],
     "prompt_number": 45
    },
    {
     "cell_type": "markdown",
     "metadata": {},
     "source": [
      "## Reshaping Data"
     ]
    },
    {
     "cell_type": "code",
     "collapsed": false,
     "input": [
      "# print the ndarray\n",
      "sample_arr2"
     ],
     "language": "python",
     "metadata": {},
     "outputs": [
      {
       "metadata": {},
       "output_type": "pyout",
       "prompt_number": 46,
       "text": [
        "array([[ 0.35656107,  0.33312008,  0.91703002,  0.09807691,  0.7668278 ],\n",
        "       [ 0.80631677,  0.83623336,  0.14805343,  0.89114314,  0.26138968]])"
       ]
      }
     ],
     "prompt_number": 46
    },
    {
     "cell_type": "code",
     "collapsed": false,
     "input": [
      "# reshape to a 5x2 matrix\n",
      "np.reshape(sample_arr2, (5,2))"
     ],
     "language": "python",
     "metadata": {},
     "outputs": [
      {
       "metadata": {},
       "output_type": "pyout",
       "prompt_number": 48,
       "text": [
        "array([[ 0.35656107,  0.33312008],\n",
        "       [ 0.91703002,  0.09807691],\n",
        "       [ 0.7668278 ,  0.80631677],\n",
        "       [ 0.83623336,  0.14805343],\n",
        "       [ 0.89114314,  0.26138968]])"
       ]
      }
     ],
     "prompt_number": 48
    },
    {
     "cell_type": "code",
     "collapsed": false,
     "input": [
      "# reshape to at 10x1 matrix\n",
      "np.reshape(sample_arr2, (10, 1))"
     ],
     "language": "python",
     "metadata": {},
     "outputs": [
      {
       "metadata": {},
       "output_type": "pyout",
       "prompt_number": 50,
       "text": [
        "array([[ 0.35656107],\n",
        "       [ 0.33312008],\n",
        "       [ 0.91703002],\n",
        "       [ 0.09807691],\n",
        "       [ 0.7668278 ],\n",
        "       [ 0.80631677],\n",
        "       [ 0.83623336],\n",
        "       [ 0.14805343],\n",
        "       [ 0.89114314],\n",
        "       [ 0.26138968]])"
       ]
      }
     ],
     "prompt_number": 50
    },
    {
     "cell_type": "code",
     "collapsed": false,
     "input": [
      "# flatten the array\n",
      "np.ravel(sample_arr2)"
     ],
     "language": "python",
     "metadata": {},
     "outputs": [
      {
       "metadata": {},
       "output_type": "pyout",
       "prompt_number": 54,
       "text": [
        "array([ 0.35656107,  0.33312008,  0.91703002,  0.09807691,  0.7668278 ,\n",
        "        0.80631677,  0.83623336,  0.14805343,  0.89114314,  0.26138968])"
       ]
      }
     ],
     "prompt_number": 54
    },
    {
     "cell_type": "code",
     "collapsed": false,
     "input": [
      "#get single element from ndarray\n",
      "sample_arr[0]"
     ],
     "language": "python",
     "metadata": {},
     "outputs": [
      {
       "metadata": {},
       "output_type": "pyout",
       "prompt_number": 55,
       "text": [
        "array([ 0.016545  ,  0.69690802,  0.73243038,  0.17943052,  0.00486025,\n",
        "        0.13644389,  0.48365167,  0.95012475])"
       ]
      }
     ],
     "prompt_number": 55
    },
    {
     "cell_type": "code",
     "collapsed": false,
     "input": [
      "# Get a single item\n",
      "sample_arr[0][0]"
     ],
     "language": "python",
     "metadata": {},
     "outputs": [
      {
       "metadata": {},
       "output_type": "pyout",
       "prompt_number": 58,
       "text": [
        "0.016545002596380365"
       ]
      }
     ],
     "prompt_number": 58
    },
    {
     "cell_type": "code",
     "collapsed": false,
     "input": [
      "# shorthand - same as above\n",
      "sample_arr[0,0]"
     ],
     "language": "python",
     "metadata": {},
     "outputs": [
      {
       "metadata": {},
       "output_type": "pyout",
       "prompt_number": 57,
       "text": [
        "0.016545002596380365"
       ]
      }
     ],
     "prompt_number": 57
    },
    {
     "cell_type": "code",
     "collapsed": false,
     "input": [
      "# Slicing the data\n",
      "sample_arr[:1]"
     ],
     "language": "python",
     "metadata": {},
     "outputs": [
      {
       "metadata": {},
       "output_type": "pyout",
       "prompt_number": 61,
       "text": [
        "array([[ 0.016545  ,  0.69690802,  0.73243038,  0.17943052,  0.00486025,\n",
        "         0.13644389,  0.48365167,  0.95012475]])"
       ]
      }
     ],
     "prompt_number": 61
    }
   ],
   "metadata": {}
  }
 ]
}